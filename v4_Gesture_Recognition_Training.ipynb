{
 "cells": [
  {
   "cell_type": "markdown",
   "metadata": {},
   "source": [
    "# AI DEMO - Summit -Tensorflow Dance Move Training\n",
    "\n",
    "This notebook should be able to run on the OCP4 Demo Cluster by simply selecting \"Cell\" and then \"Run All\" at the top of the page.\n",
    "\n",
    "Running this notebook will:\n",
    "* Pull gesture data from local repo\n",
    "* Preprocess the gesture data\n",
    "* Train a Tensorflow neural network model\n",
    "* Save the model for serving"
   ]
  },
  {
   "cell_type": "code",
   "execution_count": 1,
   "metadata": {
    "ExecuteTime": {
     "end_time": "2019-04-08T18:05:31.570796Z",
     "start_time": "2019-04-08T18:05:31.210702Z"
    }
   },
   "outputs": [],
   "source": [
    "%load_ext autoreload\n",
    "%autoreload 2\n",
    "%matplotlib inline"
   ]
  },
  {
   "cell_type": "code",
   "execution_count": 2,
   "metadata": {
    "ExecuteTime": {
     "end_time": "2019-04-08T18:05:33.341662Z",
     "start_time": "2019-04-08T18:05:31.573212Z"
    }
   },
   "outputs": [],
   "source": [
    "import s3fs\n",
    "import scipy.stats\n",
    "import pandas as pd\n",
    "import numpy as np\n",
    "import scipy\n",
    "from pathlib import Path\n",
    "from datetime import datetime as dt\n",
    "import matplotlib.pylab as plt\n",
    "import json\n",
    "import time\n",
    "import os\n",
    "\n",
    "from sklearn.model_selection import train_test_split\n",
    "from sklearn.metrics import confusion_matrix,classification_report\n",
    "from sklearn.preprocessing import LabelEncoder, OneHotEncoder, MinMaxScaler\n",
    "from sklearn.decomposition import PCA\n",
    "\n",
    "import tensorflow as tf\n",
    "from tensorflow import keras"
   ]
  },
  {
   "cell_type": "markdown",
   "metadata": {},
   "source": [
    "Functions to read and preprocess raw data from Open Data Hub"
   ]
  },
  {
   "cell_type": "code",
   "execution_count": 3,
   "metadata": {
    "ExecuteTime": {
     "end_time": "2019-04-08T18:05:33.444906Z",
     "start_time": "2019-04-08T18:05:33.349351Z"
    }
   },
   "outputs": [],
   "source": [
    "def get_raw_data(fs, path, debug=False):\n",
    "    '''Reads raw data from S3 - not parallelized\n",
    "    '''\n",
    "    data = {}\n",
    "    \n",
    "    gestures_paths = fs.ls(path)\n",
    "    \n",
    "    for gesture in gestures_paths:\n",
    "        files_to_read = fs.ls(gesture)\n",
    "    \n",
    "        key = gesture.split('/')[-1] \n",
    "        data[key] = []\n",
    "        if debug:\n",
    "            print(key)\n",
    "    \n",
    "        for file in files_to_read:\n",
    "            with fs.open(file) as f:\n",
    "                content = json.loads(f.read())\n",
    "            data[key].append(content)\n",
    "    \n",
    "    return data\n",
    "\n",
    "counter = 0\n",
    "def process_crosses_data(data_crosses):\n",
    "    '''Returns list of size N_samples and each element = tuple(index, label, acc+rot vel dataframe, rot angle dataframe)\n",
    "    '''\n",
    "\n",
    "    global counter\n",
    "    \n",
    "    data_cross_list = []\n",
    "    gesture = 'draw-cross'\n",
    "\n",
    "    for d in data_crosses: #loop over each sample\n",
    "        acc_data = pd.DataFrame([x['acceleration'] for elem in data_crosses[d] for x in elem['motion']])\n",
    "        acc_data.columns = ['acceleration_x', 'acceleration_y', 'acceleration_z']\n",
    "\n",
    "        rot_data = pd.DataFrame([x['rotationRate'] for elem in data_crosses[d] for x in elem['motion']])\n",
    "        rot_data.columns = ['rotation_alpha', 'rotation_beta', 'rotation_gamma']\n",
    "\n",
    "        timestamp_data = pd.DataFrame([x['timestamp'] for elem in data_crosses[d] for x in elem['motion']])\n",
    "        timestamp_data.columns = ['timestamp']\n",
    "\n",
    "        motion_df = pd.concat([acc_data, rot_data, timestamp_data], axis=1).sort_values('timestamp', ascending=True).drop('timestamp', axis=1)\n",
    "        orientation_df = None\n",
    "\n",
    "        data_cross_list.append((counter, gesture, motion_df, orientation_df))\n",
    "        counter += 1\n",
    "        \n",
    "    return data_cross_list\n",
    "\n",
    "def process_dance_data(data_dance_raw):\n",
    "    '''Returns list of size N_samples and each element = tuple(index, label, acc+rot vel dataframe, rot angle dataframe)\n",
    "    '''\n",
    "\n",
    "    #Ugly\n",
    "    #convert appropriate data to dataframes\n",
    "    global counter\n",
    "    \n",
    "    data = []\n",
    "    #counter = 0 #counter from before\n",
    "    for k in data_dance_raw.keys(): #loop over each dance type\n",
    "        d = data_dance_raw[k]\n",
    "        for example in d: #loop over each sample\n",
    "            gesture = example['gesture']\n",
    "\n",
    "            motion = np.array(example['motion'])\n",
    "            orientation = np.array(example['orientation'])\n",
    "\n",
    "            #process motion data\n",
    "            if len(motion)>0:\n",
    "                if motion.shape[1]==7: #incl. acc and rotational velocities\n",
    "                    motion_df = pd.DataFrame(motion, columns=['acceleration_x', 'acceleration_y', 'acceleration_z',\n",
    "                                                             'rotation_alpha', 'rotation_beta', 'rotation_gamma',\n",
    "                                                              'timestamp'\n",
    "                                                             ])\\\n",
    "                                    .sort_values('timestamp', ascending=True)\\\n",
    "                                    .drop('timestamp', axis=1)\n",
    "                \n",
    "                elif motion.shape[1]==4: #incl. acc only\n",
    "                    motion_df = pd.DataFrame(motion, columns=['acceleration_x', 'acceleration_y', 'acceleration_z',\n",
    "                                                              'timestamp'\n",
    "                                                             ])\\\n",
    "                                    .sort_values('timestamp', ascending=True)\\\n",
    "                                    .drop('timestamp', axis=1)\n",
    "\n",
    "                else: #shouldn't enter\n",
    "                    motion_df = pd.DataFrame()\n",
    "            else: #no motion data recorded\n",
    "                motion_df = pd.DataFrame()\n",
    "\n",
    "\n",
    "            #process orientation data\n",
    "            if len(orientation) > 0:\n",
    "                orientation_df = pd.DataFrame(orientation, columns=['alpha', 'beta', 'gamma', 'timestamp'])\\\n",
    "                                        .sort_values('timestamp', ascending=True)\\\n",
    "                                        .drop('timestamp', axis=1)\n",
    "            else:\n",
    "                orientation_df = pd.DataFrame()\n",
    "\n",
    "            data.append((counter, gesture, motion_df, orientation_df))\n",
    "\n",
    "            counter += 1\n",
    "    \n",
    "    return data"
   ]
  },
  {
   "cell_type": "markdown",
   "metadata": {},
   "source": [
    "#### Read raw dance and crosses data from local repo"
   ]
  },
  {
   "cell_type": "code",
   "execution_count": 4,
   "metadata": {},
   "outputs": [],
   "source": [
    "data_dance_raw = json.loads(Path('data/dance/data_dance_raw.json').read_text())\n",
    "data_cross_raw = json.loads(Path('data/dance/data_cross_raw.json').read_text())"
   ]
  },
  {
   "cell_type": "code",
   "execution_count": 5,
   "metadata": {
    "ExecuteTime": {
     "end_time": "2019-04-08T18:05:54.143657Z",
     "start_time": "2019-04-08T18:05:50.603518Z"
    }
   },
   "outputs": [],
   "source": [
    "counter = 0\n",
    "data_dance_proc = process_dance_data(data_dance_raw)\n",
    "data_cross_proc = process_crosses_data(data_cross_raw)"
   ]
  },
  {
   "cell_type": "code",
   "execution_count": 6,
   "metadata": {
    "ExecuteTime": {
     "end_time": "2019-04-08T18:06:07.028199Z",
     "start_time": "2019-04-08T18:06:06.865281Z"
    }
   },
   "outputs": [],
   "source": [
    "del data_dance_raw\n",
    "del data_cross_raw"
   ]
  },
  {
   "cell_type": "code",
   "execution_count": 7,
   "metadata": {
    "ExecuteTime": {
     "end_time": "2019-04-08T18:06:07.074812Z",
     "start_time": "2019-04-08T18:06:07.033016Z"
    }
   },
   "outputs": [],
   "source": [
    "data = data_dance_proc + data_cross_proc"
   ]
  },
  {
   "cell_type": "code",
   "execution_count": 8,
   "metadata": {
    "ExecuteTime": {
     "end_time": "2019-04-08T18:06:07.129117Z",
     "start_time": "2019-04-08T18:06:07.078535Z"
    }
   },
   "outputs": [],
   "source": [
    "del data_dance_proc\n",
    "del data_cross_proc"
   ]
  },
  {
   "cell_type": "code",
   "execution_count": 9,
   "metadata": {
    "ExecuteTime": {
     "end_time": "2019-04-08T18:06:07.193965Z",
     "start_time": "2019-04-08T18:06:07.140974Z"
    }
   },
   "outputs": [],
   "source": [
    "data = [d for d in data if d[2].shape[1]==6 and d[2].shape[0]>50] # <---- clean data"
   ]
  },
  {
   "cell_type": "code",
   "execution_count": 10,
   "metadata": {
    "ExecuteTime": {
     "end_time": "2019-04-08T18:06:07.249879Z",
     "start_time": "2019-04-08T18:06:07.200085Z"
    }
   },
   "outputs": [
    {
     "data": {
      "text/plain": [
       "(array(['draw-circle', 'draw-cross', 'draw-triangle', 'fever', 'floss',\n",
       "        'roll', 'shake'], dtype='<U13'),\n",
       " array([121, 185, 128, 123, 110, 137, 136]))"
      ]
     },
     "execution_count": 10,
     "metadata": {},
     "output_type": "execute_result"
    }
   ],
   "source": [
    "np.unique([d[1] for d in data], return_counts=True)"
   ]
  },
  {
   "cell_type": "code",
   "execution_count": 11,
   "metadata": {
    "ExecuteTime": {
     "end_time": "2019-04-08T18:06:07.311322Z",
     "start_time": "2019-04-08T18:06:07.252483Z"
    }
   },
   "outputs": [],
   "source": [
    "def featurize(ts, bins, TAG):\n",
    "    '''Take time-series and create features\n",
    "    '''\n",
    "    mean = np.mean(ts)\n",
    "    median = np.median(ts)\n",
    "    std = np.std(ts)\n",
    "    length = len(ts)\n",
    "    kurtosis = scipy.stats.kurtosis(ts)\n",
    "    \n",
    "    n,b = np.histogram(ts, bins=bins)\n",
    "    n = np.array(n)/float(np.sum(n)) #normalize i.e. fraction of entries in each bin\n",
    "    \n",
    "    if median == 0: \n",
    "        features = {f'{TAG}_mean_over_median': 0, #dimensionless            \n",
    "                    f'{TAG}_std_over_median': 0, #dimensionless            \n",
    "                    f'{TAG}_length': length,\n",
    "                    f'{TAG}_kurtosis': kurtosis, #already dimensionless by definition\n",
    "                   }\n",
    "        \n",
    "    else: \n",
    "        features = {f'{TAG}_mean_over_median': mean/median, #dimensionless            \n",
    "            f'{TAG}_std_over_median': std/median, #dimensionless            \n",
    "            f'{TAG}_length': length,\n",
    "            f'{TAG}_kurtosis': kurtosis, #already dimensionless by definition\n",
    "           }\n",
    "        \n",
    "    for i, val in enumerate(n):\n",
    "        features[f'{TAG}_binfrac_{i}'] = val\n",
    "        \n",
    "    \n",
    "    return features\n",
    "\n",
    "def find_bins(ts_list, method='freedman'):\n",
    "    ''' Find bin edges for histograms based on different methods\n",
    "    '''\n",
    "    \n",
    "    ts_all = np.concatenate(ts_list)\n",
    "    \n",
    "    plt.clf()\n",
    "    if method in ['freedman', 'scott', 'knuth', 'blocks']:\n",
    "        n,b = np.histogram(ts_all, bins=method)\n",
    "        plt.hist(ts_all, bins=b)\n",
    "    else:\n",
    "        n,b,p = plt.hist(ts_all)\n",
    "    \n",
    "    return ts_all, b"
   ]
  },
  {
   "cell_type": "code",
   "execution_count": 12,
   "metadata": {
    "ExecuteTime": {
     "end_time": "2019-04-08T18:06:07.357668Z",
     "start_time": "2019-04-08T18:06:07.314981Z"
    }
   },
   "outputs": [],
   "source": [
    "def create_dataframe(data, cols):\n",
    "    df_list = []\n",
    "    for col in cols:\n",
    "        index_list, feature_list, label_list = [], [], []\n",
    "        for d in data:\n",
    "            features = featurize(d[2][col], bins=col_bins[col], TAG=col.upper())\n",
    "\n",
    "            feature_list.append(features)\n",
    "            index_list.append(d[0])\n",
    "            label_list.append(d[1])\n",
    "\n",
    "        feature_col_df = pd.DataFrame(feature_list)\n",
    "\n",
    "        df_list.append(feature_col_df)\n",
    "        \n",
    "    df = pd.concat(df_list, axis=1)\n",
    "    df['index'] = index_list\n",
    "    df['label'] = label_list\n",
    "    \n",
    "    return df"
   ]
  },
  {
   "cell_type": "code",
   "execution_count": 13,
   "metadata": {
    "ExecuteTime": {
     "end_time": "2019-04-08T18:06:08.150820Z",
     "start_time": "2019-04-08T18:06:07.359786Z"
    }
   },
   "outputs": [
    {
     "data": {
      "image/png": "[encoded data removed]",
      "text/plain": [
       "<Figure size 432x288 with 1 Axes>"
      ]
     },
     "metadata": {
      "needs_background": "light"
     },
     "output_type": "display_data"
    }
   ],
   "source": [
    "cols = ['acceleration_x', 'acceleration_y', 'acceleration_z',\n",
    "       'rotation_alpha', 'rotation_beta', 'rotation_gamma']\n",
    "method = 'plt'\n",
    "\n",
    "col_bins = {}\n",
    "\n",
    "for col in cols:\n",
    "    ts_all, b = find_bins([d[2][col] for d in data], method=method)\n",
    "    col_bins[col] = b"
   ]
  },
  {
   "cell_type": "code",
   "execution_count": 14,
   "metadata": {
    "ExecuteTime": {
     "end_time": "2019-04-08T18:06:12.595862Z",
     "start_time": "2019-04-08T18:06:08.156415Z"
    }
   },
   "outputs": [],
   "source": [
    "df = create_dataframe(data, cols)"
   ]
  },
  {
   "cell_type": "code",
   "execution_count": 15,
   "metadata": {
    "ExecuteTime": {
     "end_time": "2019-04-08T18:06:12.644305Z",
     "start_time": "2019-04-08T18:06:12.597478Z"
    }
   },
   "outputs": [
    {
     "data": {
      "text/plain": [
       "ACCELERATION_X_binfrac_0                     0\n",
       "ACCELERATION_X_binfrac_1                     0\n",
       "ACCELERATION_X_binfrac_2                     0\n",
       "ACCELERATION_X_binfrac_3                     0\n",
       "ACCELERATION_X_binfrac_4               0.22884\n",
       "ACCELERATION_X_binfrac_5              0.761755\n",
       "ACCELERATION_X_binfrac_6            0.00940439\n",
       "ACCELERATION_X_binfrac_7                     0\n",
       "ACCELERATION_X_binfrac_8                     0\n",
       "ACCELERATION_X_binfrac_9                     0\n",
       "ACCELERATION_X_kurtosis               0.184926\n",
       "ACCELERATION_X_length                      319\n",
       "ACCELERATION_X_mean_over_median        3.48315\n",
       "ACCELERATION_X_std_over_median        -27.2695\n",
       "ACCELERATION_Y_binfrac_0                     0\n",
       "ACCELERATION_Y_binfrac_1                     0\n",
       "ACCELERATION_Y_binfrac_2                     0\n",
       "ACCELERATION_Y_binfrac_3                     0\n",
       "ACCELERATION_Y_binfrac_4              0.990596\n",
       "ACCELERATION_Y_binfrac_5            0.00940439\n",
       "ACCELERATION_Y_binfrac_6                     0\n",
       "ACCELERATION_Y_binfrac_7                     0\n",
       "ACCELERATION_Y_binfrac_8                     0\n",
       "ACCELERATION_Y_binfrac_9                     0\n",
       "ACCELERATION_Y_kurtosis               -0.32075\n",
       "ACCELERATION_Y_length                      319\n",
       "ACCELERATION_Y_mean_over_median        3.45779\n",
       "ACCELERATION_Y_std_over_median         17.0681\n",
       "ACCELERATION_Z_binfrac_0                     0\n",
       "ACCELERATION_Z_binfrac_1                     0\n",
       "                                      ...     \n",
       "ROTATION_BETA_binfrac_0                      0\n",
       "ROTATION_BETA_binfrac_1                      0\n",
       "ROTATION_BETA_binfrac_2                      0\n",
       "ROTATION_BETA_binfrac_3                      0\n",
       "ROTATION_BETA_binfrac_4               0.253918\n",
       "ROTATION_BETA_binfrac_5               0.746082\n",
       "ROTATION_BETA_binfrac_6                      0\n",
       "ROTATION_BETA_binfrac_7                      0\n",
       "ROTATION_BETA_binfrac_8                      0\n",
       "ROTATION_BETA_binfrac_9                      0\n",
       "ROTATION_BETA_kurtosis               -0.167105\n",
       "ROTATION_BETA_length                       319\n",
       "ROTATION_BETA_mean_over_median        0.589452\n",
       "ROTATION_BETA_std_over_median          8.80727\n",
       "ROTATION_GAMMA_binfrac_0                     0\n",
       "ROTATION_GAMMA_binfrac_1                     0\n",
       "ROTATION_GAMMA_binfrac_2                     0\n",
       "ROTATION_GAMMA_binfrac_3                     0\n",
       "ROTATION_GAMMA_binfrac_4              0.316614\n",
       "ROTATION_GAMMA_binfrac_5              0.683386\n",
       "ROTATION_GAMMA_binfrac_6                     0\n",
       "ROTATION_GAMMA_binfrac_7                     0\n",
       "ROTATION_GAMMA_binfrac_8                     0\n",
       "ROTATION_GAMMA_binfrac_9                     0\n",
       "ROTATION_GAMMA_kurtosis               0.248245\n",
       "ROTATION_GAMMA_length                      319\n",
       "ROTATION_GAMMA_mean_over_median        10.4361\n",
       "ROTATION_GAMMA_std_over_median        -42.2039\n",
       "index                                       20\n",
       "label                              draw-circle\n",
       "Name: 0, Length: 86, dtype: object"
      ]
     },
     "execution_count": 15,
     "metadata": {},
     "output_type": "execute_result"
    }
   ],
   "source": [
    "df.iloc[0]"
   ]
  },
  {
   "cell_type": "code",
   "execution_count": 16,
   "metadata": {
    "ExecuteTime": {
     "end_time": "2019-04-08T18:06:12.706152Z",
     "start_time": "2019-04-08T18:06:12.653433Z"
    }
   },
   "outputs": [
    {
     "data": {
      "text/plain": [
       "draw-cross     185\n",
       "roll           137\n",
       "shake          136\n",
       "fever          123\n",
       "draw-circle    121\n",
       "floss          110\n",
       "Name: label, dtype: int64"
      ]
     },
     "execution_count": 16,
     "metadata": {},
     "output_type": "execute_result"
    }
   ],
   "source": [
    "df = df[~df['label'].isin(['draw-triangle'])]\n",
    "df['label'].value_counts()"
   ]
  },
  {
   "cell_type": "code",
   "execution_count": 17,
   "metadata": {
    "ExecuteTime": {
     "end_time": "2019-04-08T18:06:12.756583Z",
     "start_time": "2019-04-08T18:06:12.708415Z"
    }
   },
   "outputs": [
    {
     "name": "stderr",
     "output_type": "stream",
     "text": [
      "/home/macermak/.local/share/virtualenvs/2019-demo4-ai-FZCiEg3v/lib/python3.6/site-packages/sklearn/model_selection/_split.py:2179: FutureWarning: From version 0.21, test_size will always complement train_size unless both are specified.\n",
      "  FutureWarning)\n"
     ]
    }
   ],
   "source": [
    "np.random.seed(0)\n",
    "\n",
    "train_df, test_df = train_test_split(df, train_size=0.70)"
   ]
  },
  {
   "cell_type": "code",
   "execution_count": 18,
   "metadata": {
    "ExecuteTime": {
     "end_time": "2019-04-08T18:06:12.808256Z",
     "start_time": "2019-04-08T18:06:12.759375Z"
    }
   },
   "outputs": [
    {
     "name": "stdout",
     "output_type": "stream",
     "text": [
      "train size = (568, 86)\n",
      "test size = (244, 86)\n",
      "draw-cross     131\n",
      "shake          103\n",
      "fever           91\n",
      "draw-circle     84\n",
      "roll            82\n",
      "floss           77\n",
      "Name: label, dtype: int64\n",
      "roll           55\n",
      "draw-cross     54\n",
      "draw-circle    37\n",
      "floss          33\n",
      "shake          33\n",
      "fever          32\n",
      "Name: label, dtype: int64\n"
     ]
    }
   ],
   "source": [
    "print(f'train size = {train_df.shape}')\n",
    "print(f'test size = {test_df.shape}')\n",
    "\n",
    "print(train_df['label'].value_counts())\n",
    "print(test_df['label'].value_counts())"
   ]
  },
  {
   "cell_type": "code",
   "execution_count": 19,
   "metadata": {
    "ExecuteTime": {
     "end_time": "2019-04-08T18:06:12.878218Z",
     "start_time": "2019-04-08T18:06:12.810617Z"
    }
   },
   "outputs": [],
   "source": [
    "def plot_confusion_matrix(train_labels, train_pred):\n",
    "    fig = plt.figure(figsize=(8,8))\n",
    "    ax = plt.subplot()\n",
    "\n",
    "    labels = np.sort(list(train_labels.value_counts().index))\n",
    "\n",
    "    confusion = confusion_matrix(train_labels, train_pred, labels=labels)\n",
    "    ax.matshow(confusion)\n",
    "\n",
    "    ax.set_xticks(range(len(labels)))\n",
    "    ax.set_yticks(range(len(labels)))\n",
    "\n",
    "    ax.set_xticklabels(labels, rotation=90);\n",
    "    ax.set_yticklabels(labels);\n",
    "\n",
    "    for i in range(len(labels)):\n",
    "        for j in range(len(labels)):        \n",
    "            ax.text(j, i, confusion[i,j], va='center', ha='center')\n",
    "\n",
    "    plt.xlabel('predicted')    \n",
    "    plt.ylabel('true')\n",
    "    \n",
    "    return fig"
   ]
  },
  {
   "cell_type": "code",
   "execution_count": 20,
   "metadata": {
    "ExecuteTime": {
     "end_time": "2019-04-08T18:06:12.929805Z",
     "start_time": "2019-04-08T18:06:12.881171Z"
    }
   },
   "outputs": [],
   "source": [
    "train_label = np.array(train_df['label'])\n",
    "test_label = np.array(test_df['label'])\n",
    "\n",
    "label_encoder = LabelEncoder()\n",
    "one_hot_encoder = OneHotEncoder(sparse=False,categories='auto')\n",
    "\n",
    "train_integer = label_encoder.fit_transform(train_label)\n",
    "train_onehot = one_hot_encoder.fit_transform(train_integer.reshape(len(train_integer), 1))\n",
    "\n",
    "test_integer = label_encoder.transform(test_label)\n",
    "test_onehot = one_hot_encoder.transform(test_integer.reshape(len(test_integer), 1))"
   ]
  },
  {
   "cell_type": "code",
   "execution_count": 21,
   "metadata": {
    "ExecuteTime": {
     "end_time": "2019-04-08T18:06:19.192022Z",
     "start_time": "2019-04-08T18:06:18.981722Z"
    }
   },
   "outputs": [
    {
     "name": "stdout",
     "output_type": "stream",
     "text": [
      "WARNING:tensorflow:From /home/macermak/.local/share/virtualenvs/2019-demo4-ai-FZCiEg3v/lib/python3.6/site-packages/tensorflow/python/ops/resource_variable_ops.py:435: colocate_with (from tensorflow.python.framework.ops) is deprecated and will be removed in a future version.\n",
      "Instructions for updating:\n",
      "Colocations handled automatically by placer.\n",
      "WARNING:tensorflow:From /home/macermak/.local/share/virtualenvs/2019-demo4-ai-FZCiEg3v/lib/python3.6/site-packages/tensorflow/python/keras/layers/core.py:143: calling dropout (from tensorflow.python.ops.nn_ops) with keep_prob is deprecated and will be removed in a future version.\n",
      "Instructions for updating:\n",
      "Please use `rate` instead of `keep_prob`. Rate should be set to `rate = 1 - keep_prob`.\n"
     ]
    }
   ],
   "source": [
    "model = keras.Sequential([\n",
    "    keras.layers.Dense(30, activation=tf.nn.sigmoid, input_shape=(85,)),\n",
    "    keras.layers.Dropout(0.05, seed=42),\n",
    "    keras.layers.Dense(6, activation=tf.nn.log_softmax)\n",
    "]) "
   ]
  },
  {
   "cell_type": "code",
   "execution_count": 22,
   "metadata": {
    "ExecuteTime": {
     "end_time": "2019-04-08T18:06:19.424151Z",
     "start_time": "2019-04-08T18:06:19.194946Z"
    }
   },
   "outputs": [],
   "source": [
    "optimizer = keras.optimizers.Adam(lr=1e-3)\n",
    "loss      = tf.nn.softmax_cross_entropy_with_logits_v2\n",
    "metrics   = ['accuracy']\n",
    "\n",
    "model.compile(optimizer=optimizer,  loss=loss, metrics=metrics)"
   ]
  },
  {
   "cell_type": "code",
   "execution_count": 23,
   "metadata": {
    "ExecuteTime": {
     "end_time": "2019-04-08T18:06:30.532917Z",
     "start_time": "2019-04-08T18:06:19.426123Z"
    }
   },
   "outputs": [
    {
     "name": "stdout",
     "output_type": "stream",
     "text": [
      "Epoch 1/15\n",
      "200/200 [==============================] - 1s 3ms/step - loss: 1.2183 - acc: 0.6150\n",
      "Epoch 2/15\n",
      "200/200 [==============================] - 1s 3ms/step - loss: 0.7586 - acc: 0.8752\n",
      "Epoch 3/15\n",
      "200/200 [==============================] - 1s 3ms/step - loss: 0.5390 - acc: 0.9172\n",
      "Epoch 4/15\n",
      "200/200 [==============================] - 1s 3ms/step - loss: 0.4089 - acc: 0.9364\n",
      "Epoch 5/15\n",
      "200/200 [==============================] - 1s 3ms/step - loss: 0.3390 - acc: 0.9401\n",
      "Epoch 6/15\n",
      "200/200 [==============================] - 1s 5ms/step - loss: 0.2968 - acc: 0.9416\n",
      "Epoch 7/15\n",
      "200/200 [==============================] - 1s 4ms/step - loss: 0.2615 - acc: 0.9455\n",
      "Epoch 8/15\n",
      "200/200 [==============================] - 1s 3ms/step - loss: 0.2273 - acc: 0.9478\n",
      "Epoch 9/15\n",
      "200/200 [==============================] - 1s 3ms/step - loss: 0.2072 - acc: 0.9545\n",
      "Epoch 10/15\n",
      "200/200 [==============================] - 1s 3ms/step - loss: 0.1910 - acc: 0.9587\n",
      "Epoch 11/15\n",
      "200/200 [==============================] - 1s 5ms/step - loss: 0.1819 - acc: 0.9606\n",
      "Epoch 12/15\n",
      "200/200 [==============================] - 1s 4ms/step - loss: 0.1709 - acc: 0.9630\n",
      "Epoch 13/15\n",
      "200/200 [==============================] - 1s 3ms/step - loss: 0.1657 - acc: 0.9629\n",
      "Epoch 14/15\n",
      "200/200 [==============================] - 1s 3ms/step - loss: 0.1582 - acc: 0.9648\n",
      "Epoch 15/15\n",
      "200/200 [==============================] - 1s 3ms/step - loss: 0.1528 - acc: 0.9654\n"
     ]
    }
   ],
   "source": [
    "history = model.fit( train_df.drop('label', axis=1), train_onehot, epochs=15, steps_per_epoch=200, verbose=1)"
   ]
  },
  {
   "cell_type": "code",
   "execution_count": 24,
   "metadata": {
    "ExecuteTime": {
     "end_time": "2019-04-08T18:06:30.794702Z",
     "start_time": "2019-04-08T18:06:30.539474Z"
    }
   },
   "outputs": [
    {
     "name": "stdout",
     "output_type": "stream",
     "text": [
      "244/244 [==============================] - 0s 708us/sample - loss: 0.4797 - acc: 0.9016\n",
      "Test accuracy: 0.90163934\n"
     ]
    }
   ],
   "source": [
    "test_loss, test_acc = model.evaluate(test_df.drop('label', axis=1), test_onehot)\n",
    "\n",
    "print('Test accuracy:', test_acc)"
   ]
  },
  {
   "cell_type": "code",
   "execution_count": 25,
   "metadata": {
    "ExecuteTime": {
     "end_time": "2019-04-08T18:06:31.646369Z",
     "start_time": "2019-04-08T18:06:30.809047Z"
    }
   },
   "outputs": [
    {
     "data": {
      "text/plain": [
       "Text(0, 0.5, 'predicted')"
      ]
     },
     "execution_count": 25,
     "metadata": {},
     "output_type": "execute_result"
    },
    {
     "data": {
      "image/png": "[encoded data removed]",
      "text/plain": [
       "<Figure size 360x360 with 1 Axes>"
      ]
     },
     "metadata": {
      "needs_background": "light"
     },
     "output_type": "display_data"
    }
   ],
   "source": [
    "y_hat = model.predict(test_df.drop('label', axis=1))\n",
    "y_hat = y_hat.argmax(axis=1)\n",
    "y_hat = label_encoder.inverse_transform(y_hat)\n",
    "\n",
    "fig = plt.figure(figsize=(5,5))\n",
    "ax = plt.subplot()\n",
    "\n",
    "labels = list(test_df['label'].value_counts().index)\n",
    "\n",
    "confusion = confusion_matrix(test_label, y_hat, labels=labels)\n",
    "ax.matshow(confusion)\n",
    "\n",
    "ax.set_xticks(range(len(labels)))\n",
    "ax.set_yticks(range(len(labels)))\n",
    "\n",
    "ax.set_xticklabels(labels, rotation=90);\n",
    "ax.set_yticklabels(labels);\n",
    "\n",
    "for i in range(len(labels)):\n",
    "    for j in range(len(labels)):        \n",
    "        ax.text(j, i, confusion[i,j], va='center', ha='center')\n",
    "        \n",
    "plt.xlabel('true')\n",
    "plt.ylabel('predicted')"
   ]
  },
  {
   "cell_type": "code",
   "execution_count": 26,
   "metadata": {
    "ExecuteTime": {
     "end_time": "2019-04-08T18:06:31.726281Z",
     "start_time": "2019-04-08T18:06:31.649100Z"
    }
   },
   "outputs": [
    {
     "name": "stdout",
     "output_type": "stream",
     "text": [
      "              precision    recall  f1-score   support\n",
      "\n",
      "        roll       0.90      0.84      0.87        55\n",
      "  draw-cross       0.91      0.94      0.93        54\n",
      " draw-circle       0.92      0.97      0.95        37\n",
      "       floss       0.91      0.88      0.89        33\n",
      "       shake       0.85      0.88      0.87        33\n",
      "       fever       0.91      0.91      0.91        32\n",
      "\n",
      "   micro avg       0.90      0.90      0.90       244\n",
      "   macro avg       0.90      0.90      0.90       244\n",
      "weighted avg       0.90      0.90      0.90       244\n",
      "\n"
     ]
    }
   ],
   "source": [
    "print(classification_report(test_label, y_hat, labels=labels))"
   ]
  },
  {
   "cell_type": "code",
   "execution_count": 27,
   "metadata": {
    "ExecuteTime": {
     "end_time": "2019-04-08T18:06:32.978127Z",
     "start_time": "2019-04-08T18:06:31.729890Z"
    }
   },
   "outputs": [
    {
     "name": "stdout",
     "output_type": "stream",
     "text": [
      "rm: cannot remove 'models/v4/pb/1554746791': No such file or directory\n",
      "WARNING:tensorflow:From <ipython-input-27-618ac012a23b>:20: simple_save (from tensorflow.python.saved_model.simple_save) is deprecated and will be removed in a future version.\n",
      "Instructions for updating:\n",
      "This function will only be available through the v1 compatibility library as tf.compat.v1.saved_model.simple_save.\n",
      "WARNING:tensorflow:From /home/macermak/.local/share/virtualenvs/2019-demo4-ai-FZCiEg3v/lib/python3.6/site-packages/tensorflow/python/saved_model/signature_def_utils_impl.py:205: build_tensor_info (from tensorflow.python.saved_model.utils_impl) is deprecated and will be removed in a future version.\n",
      "Instructions for updating:\n",
      "This function will only be available through the v1 compatibility library as tf.compat.v1.saved_model.utils.build_tensor_info or tf.compat.v1.saved_model.build_tensor_info.\n",
      "INFO:tensorflow:Assets added to graph.\n",
      "INFO:tensorflow:No assets to write.\n",
      "INFO:tensorflow:SavedModel written to: models/v4/pb/1554746791/saved_model.pb\n",
      "\n",
      "Saved model:\n",
      "total 140\n",
      "-rw-r--r--. 1 macermak vpnusers 139114 Apr  8 20:06 saved_model.pb\n",
      "drwxr-xr-x. 2 macermak vpnusers   4096 Apr  8 20:06 variables\n",
      "\n",
      "Saved model:\n",
      "total 56\n",
      "-rw-r--r--. 1 macermak vpnusers 57240 Apr  8 20:06 saved_model.h5\n",
      "WARNING:tensorflow:This model was compiled with a Keras optimizer (<tensorflow.python.keras.optimizers.Adam object at 0x7fc733ba7a90>) but is being saved in TensorFlow format with `save_weights`. The model's weights will be saved, but unlike with TensorFlow optimizers in the TensorFlow format the optimizer's state will not be saved.\n",
      "\n",
      "Consider using a TensorFlow optimizer from `tf.train`.\n",
      "WARNING:tensorflow:From /home/macermak/.local/share/virtualenvs/2019-demo4-ai-FZCiEg3v/lib/python3.6/site-packages/tensorflow/python/keras/engine/network.py:1436: update_checkpoint_state (from tensorflow.python.training.checkpoint_management) is deprecated and will be removed in a future version.\n",
      "Instructions for updating:\n",
      "Use tf.train.CheckpointManager to manage checkpoints rather than manually editing the Checkpoint proto.\n",
      "\n",
      "Saved model:\n",
      "total 28\n",
      "-rw-r--r--. 1 macermak vpnusers    77 Apr  8 20:06 checkpoint\n",
      "-rw-r--r--. 1 macermak vpnusers 14361 Apr  8 20:06 checkpoint.data-00000-of-00001\n",
      "-rw-r--r--. 1 macermak vpnusers   637 Apr  8 20:06 checkpoint.index\n",
      "-rw-r--r--. 1 macermak vpnusers  1236 Apr  8 20:06 saved_model_spec.json\n"
     ]
    }
   ],
   "source": [
    "save = True\n",
    "ver = int(dt.now().timestamp())\n",
    "\n",
    "if save:\n",
    "    for fmt in ['pb', 'hdf5', 'json']:\n",
    "        # save model as hdf5\n",
    "        MODEL_DIR = f\"models/v4/{fmt}\"\n",
    "        export_path = Path(MODEL_DIR, str(ver))\n",
    "\n",
    "        if fmt == 'pb':\n",
    "            # simple_save can not handle existing repository\n",
    "            !rm -r {export_path}\n",
    "\n",
    "            # Inspired by https://www.tensorflow.org/serving/tutorials/Serving_REST_simple\n",
    "            # to save model for TF-serving\n",
    "            tf.saved_model.simple_save(\n",
    "                tf.keras.backend.get_session(),\n",
    "                str(export_path),\n",
    "                inputs={'input_data': model.input},\n",
    "                outputs={t.name:t for t in model.outputs})\n",
    "            \n",
    "        elif fmt == 'hdf5':\n",
    "            # make sure directory exists\n",
    "            os.makedirs(export_path, exist_ok=True)\n",
    "            \n",
    "            model_path = Path(export_path, 'saved_model.h5') \n",
    "            \n",
    "            # hdf5\n",
    "            model.save(model_path)\n",
    "            \n",
    "        else:\n",
    "            # make sure directory exists\n",
    "            os.makedirs(export_path, exist_ok=True)\n",
    "            \n",
    "            # json\n",
    "            model_spec_path = Path(\n",
    "                export_path, 'saved_model_spec.json'\n",
    "            )\n",
    "            model_weights_path = Path(\n",
    "                export_path, 'checkpoint')\n",
    "            \n",
    "            model_spec_path.write_text(model.to_json(), encoding='utf-8')\n",
    "            model.save_weights(str(model_weights_path))\n",
    "\n",
    "        print('\\nSaved model:')\n",
    "        !ls -l {export_path}"
   ]
  },
  {
   "cell_type": "markdown",
   "metadata": {},
   "source": [
    "---"
   ]
  },
  {
   "cell_type": "markdown",
   "metadata": {},
   "source": [
    "### Knative"
   ]
  },
  {
   "cell_type": "code",
   "execution_count": null,
   "metadata": {},
   "outputs": [],
   "source": [
    "%%bash\n",
    "\n",
    "oc start-build tf-serving --from-dir ."
   ]
  },
  {
   "cell_type": "code",
   "execution_count": null,
   "metadata": {},
   "outputs": [],
   "source": [
    "builds = !oc get builds\n",
    "latest = builds[-1].split()[0]\n",
    "\n",
    "!oc logs -f build.build.openshift.io/$latest"
   ]
  },
  {
   "cell_type": "code",
   "execution_count": null,
   "metadata": {},
   "outputs": [],
   "source": [
    "revision = int(dt.timestamp(dt.now()))\n",
    "\n",
    "!oc process tf-serving-knative -p REVISION=$revision | oc apply -f -"
   ]
  },
  {
   "cell_type": "code",
   "execution_count": null,
   "metadata": {},
   "outputs": [],
   "source": [
    "%%bash\n",
    "\n",
    "while oc get pods | grep tf-serving-knative | grep -v Running; do \n",
    "    oc get pods | grep tf-serving-knative\n",
    "    sleep 1\n",
    "done"
   ]
  },
  {
   "cell_type": "code",
   "execution_count": null,
   "metadata": {},
   "outputs": [],
   "source": [
    "%%bash --out KSERVICE_DOMAIN\n",
    "\n",
    "oc get kservice tf-serving-knative-demo -o jsonpath='{.status.domain}'"
   ]
  },
  {
   "cell_type": "code",
   "execution_count": null,
   "metadata": {},
   "outputs": [],
   "source": [
    "KSERVICE_DOMAIN"
   ]
  },
  {
   "cell_type": "code",
   "execution_count": null,
   "metadata": {},
   "outputs": [],
   "source": [
    "import requests\n",
    "\n",
    "INGRESS_GATEWAY=\"istio-ingressgateway.istio-system.svc.cluster.local\"\n",
    "\n",
    "data = {\n",
    "  \"instances\": [\n",
    "    [\n",
    "      0.625899,\n",
    "      0.23741,\n",
    "      0.035971,\n",
    "      0.035971,\n",
    "      0.028777,\n",
    "      0.014388,\n",
    "      0.021583,\n",
    "      0,\n",
    "      0,\n",
    "      4.7488,\n",
    "      139,\n",
    "      1.359591,\n",
    "      1.667831\n",
    "    ]\n",
    "  ],\n",
    "  \"signature\": \"serving_default\"\n",
    "}\n",
    "\n",
    "json_response = requests.post(\"http://%s/model/predict\" % INGRESS_GATEWAY, json=data, headers={\"Host\": KSERVICE_DOMAIN, \"Content-Type\":\"application/json\"})\n",
    "json_response.content"
   ]
  }
 ],
 "metadata": {
  "kernelspec": {
   "display_name": "Python TF 1.13",
   "language": "python",
   "name": "tf13"
  },
  "varInspector": {
   "cols": {
    "lenName": 16,
    "lenType": 16,
    "lenVar": 40
   },
   "kernels_config": {
    "python": {
     "delete_cmd_postfix": "",
     "delete_cmd_prefix": "del ",
     "library": "var_list.py",
     "varRefreshCmd": "print(var_dic_list())"
    },
    "r": {
     "delete_cmd_postfix": ") ",
     "delete_cmd_prefix": "rm(",
     "library": "var_list.r",
     "varRefreshCmd": "cat(var_dic_list()) "
    }
   },
   "types_to_exclude": [
    "module",
    "function",
    "builtin_function_or_method",
    "instance",
    "_Feature"
   ],
   "window_display": false
  }
 },
 "nbformat": 4,
 "nbformat_minor": 2
}
