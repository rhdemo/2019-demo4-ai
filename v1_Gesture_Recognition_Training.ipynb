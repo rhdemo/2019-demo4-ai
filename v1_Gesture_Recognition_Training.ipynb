{
 "cells": [
  {
   "cell_type": "markdown",
   "metadata": {},
   "source": [
    "## Gesture Recognition Training for Summit AI Demo\n",
    "\n",
    "* Read training data from local\n",
    "* Combine multiple json files into single time-series.\n",
    "* Featurize time-series data\n",
    "* Train and test Random Forest model\n",
    "* Train and test Feed-Forward model\n",
    "* Save model for use by TF-Serve"
   ]
  },
  {
   "cell_type": "code",
   "execution_count": 1,
   "metadata": {
    "ExecuteTime": {
     "end_time": "2019-03-19T14:27:16.683603Z",
     "start_time": "2019-03-19T14:27:16.429409Z"
    }
   },
   "outputs": [],
   "source": [
    "%load_ext autoreload\n",
    "%autoreload 2\n",
    "%matplotlib inline"
   ]
  },
  {
   "cell_type": "code",
   "execution_count": 2,
   "metadata": {
    "ExecuteTime": {
     "end_time": "2019-03-19T14:27:18.342224Z",
     "start_time": "2019-03-19T14:27:16.686407Z"
    }
   },
   "outputs": [],
   "source": [
    "import os\n",
    "import pandas as pd\n",
    "import numpy as np\n",
    "import scipy.stats\n",
    "import time\n",
    "import multiprocessing as mp\n",
    "from natsort import natsorted\n",
    "import json\n",
    "import matplotlib.pylab as plt\n",
    "\n",
    "from sklearn.ensemble import RandomForestClassifier\n",
    "from sklearn.model_selection import train_test_split\n",
    "from sklearn.metrics import confusion_matrix\n",
    "from sklearn.preprocessing import LabelEncoder, OneHotEncoder\n",
    "\n",
    "import tensorflow as tf\n",
    "\n",
    "from tensorflow import keras\n",
    "\n",
    "import warnings\n",
    "warnings.filterwarnings('ignore')"
   ]
  },
  {
   "cell_type": "code",
   "execution_count": 3,
   "metadata": {
    "ExecuteTime": {
     "end_time": "2019-03-19T14:27:18.407277Z",
     "start_time": "2019-03-19T14:27:18.344338Z"
    }
   },
   "outputs": [],
   "source": [
    "def mp_collect_featured_data_from_local(path, label):\n",
    "    top_dir = os.listdir(path)\n",
    "    data = []\n",
    "    data_params = []\n",
    "    \n",
    "    for files in top_dir:\n",
    "        # df = None\n",
    "        bottom_dir = natsorted(os.listdir(path+'/'+files))\n",
    "        df = combine_multiple_json(bottom_dir,path+'/'+files)\n",
    "        df = turn_jsons_into_joint_dataframe(df)\n",
    "        df = get_accleration_timeseries(df)\n",
    "        params = (df, label, np.arange(0,100,10))\n",
    "        data_params.append(params)\n",
    "        \n",
    "    #then = time.time()\n",
    "    pool = mp.Pool(processes=8)\n",
    "    data = pool.map(featurize,data_params)\n",
    "    #print((time.time()-then)/60, \"minutes\")\n",
    "        \n",
    "    return data # a list that has a featurized vector (as a dictioanry) for each folder in top_dir (each capture session)\n",
    "\n"
   ]
  },
  {
   "cell_type": "code",
   "execution_count": 4,
   "metadata": {
    "ExecuteTime": {
     "end_time": "2019-03-19T14:27:18.476282Z",
     "start_time": "2019-03-19T14:27:18.411224Z"
    }
   },
   "outputs": [],
   "source": [
    "def combine_multiple_json(bottom_dir, path):\n",
    "    \n",
    "    df = pd.DataFrame([])\n",
    "    obj = []\n",
    "    \n",
    "    for partial_json  in bottom_dir:\n",
    "        partial_json = path+\"/\"+partial_json\n",
    "        x = open(partial_json)\n",
    "        data = x.read()\n",
    "        x.close()\n",
    "        temp = json.loads(data)\n",
    "        obj.append(temp['motion'])\n",
    "        \n",
    "    return obj # list of motion data in multiple json files representing one capture session\n",
    "\n",
    "def turn_jsons_into_joint_dataframe(a_list):\n",
    "    df = pd.DataFrame()\n",
    "    for item in a_list:\n",
    "        temp = pd.io.json.json_normalize(item)\n",
    "        df = df.append(temp, ignore_index=True, sort=False)\n",
    "        df = df.iloc[:,0:3]\n",
    "  \n",
    "    return df # 3xn dataframe of acceleration data  \n",
    "\n",
    "def get_accleration_timeseries(timeseries):\n",
    "    \n",
    "    timeseries = timeseries.apply((lambda x: x**2))\n",
    "    timeseries = timeseries.sum(axis=1)\n",
    "    timeseries = timeseries.apply(np.sqrt)\n",
    "    \n",
    "    return timeseries # 1xn Series \n",
    "\n",
    "def featurize(params):\n",
    "    ts = params[0]\n",
    "    label = params[1]\n",
    "    bins = params[2]\n",
    "    mean = np.mean(ts)\n",
    "    median = np.median(ts)\n",
    "    std = np.std(ts)\n",
    "    length = len(ts)\n",
    "    kurtosis = scipy.stats.kurtosis(ts)\n",
    "    \n",
    "    n,b,p = plt.hist(ts, bins=bins)\n",
    "    n = np.array(n)/float(np.sum(n)) #normalize i.e. fraction of entries in each bin\n",
    "    \n",
    "    if median == 0: \n",
    "        features = {'mean_over_median': 0, #dimensionless            \n",
    "                    'std_over_median': 0, #dimensionless            \n",
    "                    'length': length,\n",
    "                    'kurtosis': kurtosis, #already dimensionless by definition\n",
    "                   }\n",
    "        \n",
    "    else: \n",
    "        features = {'mean_over_median': mean/median, #dimensionless            \n",
    "            'std_over_median': std/median, #dimensionless            \n",
    "            'length': length,\n",
    "            'kurtosis': kurtosis, #already dimensionless by definition\n",
    "           }\n",
    "        \n",
    "    for i, val in enumerate(n):\n",
    "        features[f'binfrac_{i}'] = val\n",
    "    \n",
    "    features['label'] = label\n",
    "    \n",
    "    \n",
    "    return features\n",
    "    "
   ]
  },
  {
   "cell_type": "markdown",
   "metadata": {},
   "source": [
    "### Get Data\n",
    "\n",
    "Pull gesture data from local data directory and convert it into a featurized representation. "
   ]
  },
  {
   "cell_type": "code",
   "execution_count": 13,
   "metadata": {},
   "outputs": [
    {
     "name": "stdout",
     "output_type": "stream",
     "text": [
      "Data directory already exists\n"
     ]
    }
   ],
   "source": [
    "exists = os.path.isdir('data/demo4-training-data/')\n",
    "if exists:\n",
    "    print(\"Data directory already exists\")\n",
    "else:\n",
    "    ! tar xzfv data/demo4-training-data.tar.gz --directory data"
   ]
  },
  {
   "cell_type": "code",
   "execution_count": 12,
   "metadata": {
    "ExecuteTime": {
     "end_time": "2019-03-19T12:05:06.429934Z",
     "start_time": "2019-03-19T12:05:05.296340Z"
    },
    "scrolled": true
   },
   "outputs": [
    {
     "name": "stdout",
     "output_type": "stream",
     "text": [
      "0.09680379231770833 minutes\n"
     ]
    }
   ],
   "source": [
    "then = time.time()\n",
    "\n",
    "path_to_data = 'data/demo4-training-data/mock-server-data/motions/2019-02-27'\n",
    "gesture_O = mp_collect_featured_data_from_local(path_to_data, 'O')\n",
    "  \n",
    "print((time.time()-then)/60, \"minutes\")"
   ]
  },
  {
   "cell_type": "code",
   "execution_count": 6,
   "metadata": {
    "ExecuteTime": {
     "end_time": "2019-03-19T12:05:06.440739Z",
     "start_time": "2019-03-19T12:05:03.383Z"
    }
   },
   "outputs": [
    {
     "name": "stdout",
     "output_type": "stream",
     "text": [
      "0.08408266305923462 minutes\n"
     ]
    }
   ],
   "source": [
    "then = time.time()\n",
    "\n",
    "path_to_data = 'data/demo4-training-data/mock-server-data/motions/2019-02-26'\n",
    "gesture_X = mp_collect_featured_data_from_local(path_to_data, 'X')\n",
    "  \n",
    "print((time.time()-then)/60, \"minutes\")"
   ]
  },
  {
   "cell_type": "code",
   "execution_count": 7,
   "metadata": {
    "ExecuteTime": {
     "end_time": "2019-03-19T12:05:06.444198Z",
     "start_time": "2019-03-19T12:05:03.385Z"
    }
   },
   "outputs": [],
   "source": [
    "df = pd.DataFrame(gesture_O + gesture_X)"
   ]
  },
  {
   "cell_type": "markdown",
   "metadata": {},
   "source": [
    "Or load from local csv files"
   ]
  },
  {
   "cell_type": "markdown",
   "metadata": {
    "ExecuteTime": {
     "end_time": "2019-03-19T14:27:18.561712Z",
     "start_time": "2019-03-19T14:27:18.480029Z"
    }
   },
   "source": [
    "_train_df = pd.read_csv('data/accelerometer/xo/train.csv')\n",
    "_test_df = pd.read_csv('data/accelerometer/xo/test.csv')\n",
    "\n",
    "df = pd.concat((_test_df, _train_df))\n",
    "\n",
    "del _train_df\n",
    "del _test_df"
   ]
  },
  {
   "cell_type": "markdown",
   "metadata": {},
   "source": [
    "### Model Training\n",
    "\n",
    "Split the data for training and testing with both a Random Forest model and a Feed-Forward network. "
   ]
  },
  {
   "cell_type": "code",
   "execution_count": 8,
   "metadata": {
    "ExecuteTime": {
     "end_time": "2019-03-19T14:27:18.649047Z",
     "start_time": "2019-03-19T14:27:18.569982Z"
    }
   },
   "outputs": [],
   "source": [
    "df = df.dropna()"
   ]
  },
  {
   "cell_type": "code",
   "execution_count": 9,
   "metadata": {
    "ExecuteTime": {
     "end_time": "2019-03-19T14:27:18.710808Z",
     "start_time": "2019-03-19T14:27:18.659267Z"
    }
   },
   "outputs": [
    {
     "name": "stdout",
     "output_type": "stream",
     "text": [
      "train size = (342, 14)\n",
      "test size = (114, 14)\n",
      "O    203\n",
      "X    139\n",
      "Name: label, dtype: int64\n",
      "O    68\n",
      "X    46\n",
      "Name: label, dtype: int64\n"
     ]
    }
   ],
   "source": [
    "train_df, test_df = train_test_split(df, train_size=0.75)\n",
    "print(f'train size = {train_df.shape}')\n",
    "print(f'test size = {test_df.shape}')\n",
    "\n",
    "print(train_df['label'].value_counts())\n",
    "print(test_df['label'].value_counts())"
   ]
  },
  {
   "cell_type": "code",
   "execution_count": 10,
   "metadata": {
    "ExecuteTime": {
     "end_time": "2019-03-19T14:27:18.803098Z",
     "start_time": "2019-03-19T14:27:18.717382Z"
    }
   },
   "outputs": [],
   "source": [
    "train_df = train_df.dropna()\n",
    "test_df = test_df.dropna()"
   ]
  },
  {
   "cell_type": "markdown",
   "metadata": {},
   "source": [
    "#### Random Forest (sklearn)"
   ]
  },
  {
   "cell_type": "code",
   "execution_count": 11,
   "metadata": {
    "ExecuteTime": {
     "end_time": "2019-03-19T14:27:19.267356Z",
     "start_time": "2019-03-19T14:27:18.810296Z"
    }
   },
   "outputs": [
    {
     "name": "stdout",
     "output_type": "stream",
     "text": [
      "train acc = 0.9590643274853801, test_acc = 0.9035087719298246\n"
     ]
    }
   ],
   "source": [
    "model = RandomForestClassifier(max_depth=5, n_estimators=100, n_jobs=10)\n",
    "\n",
    "model.fit(train_df.drop('label', axis=1), train_df['label'])\n",
    "\n",
    "train_pred = model.predict(train_df.drop('label', axis=1))\n",
    "train_labels = train_df['label']\n",
    "train_acc = np.sum(train_pred==train_labels) / len(train_pred)\n",
    "\n",
    "test_pred = model.predict(test_df.drop('label', axis=1))\n",
    "test_labels = test_df['label']\n",
    "test_acc = np.sum(test_pred==test_labels) / len(test_pred)\n",
    "\n",
    "print(f'train acc = {train_acc}, test_acc = {test_acc}')"
   ]
  },
  {
   "cell_type": "code",
   "execution_count": 12,
   "metadata": {
    "ExecuteTime": {
     "end_time": "2019-03-19T14:27:19.545976Z",
     "start_time": "2019-03-19T14:27:19.274920Z"
    }
   },
   "outputs": [
    {
     "data": {
      "text/plain": [
       "Text(0, 0.5, 'predicted')"
      ]
     },
     "execution_count": 12,
     "metadata": {},
     "output_type": "execute_result"
    },
    {
     "data": {
      "image/png": "[encoded data removed]",
      "text/plain": [
       "<Figure size 360x360 with 1 Axes>"
      ]
     },
     "metadata": {
      "needs_background": "light"
     },
     "output_type": "display_data"
    }
   ],
   "source": [
    "fig = plt.figure(figsize=(5,5))\n",
    "ax = plt.subplot()\n",
    "\n",
    "labels = list(test_df['label'].value_counts().index)\n",
    "\n",
    "confusion = confusion_matrix(test_labels, test_pred, labels=labels)\n",
    "ax.matshow(confusion)\n",
    "\n",
    "ax.set_xticks(range(len(labels)))\n",
    "ax.set_yticks(range(len(labels)))\n",
    "\n",
    "ax.set_xticklabels(labels, rotation=90);\n",
    "ax.set_yticklabels(labels);\n",
    "\n",
    "for i in range(len(labels)):\n",
    "    for j in range(len(labels)):        \n",
    "        ax.text(j, i, confusion[i,j], va='center', ha='center')\n",
    "        \n",
    "plt.xlabel('true')\n",
    "plt.ylabel('predicted')"
   ]
  },
  {
   "cell_type": "markdown",
   "metadata": {},
   "source": [
    "#### Feed-Forward (TF)"
   ]
  },
  {
   "cell_type": "code",
   "execution_count": 13,
   "metadata": {
    "ExecuteTime": {
     "end_time": "2019-03-19T14:27:19.610186Z",
     "start_time": "2019-03-19T14:27:19.548518Z"
    }
   },
   "outputs": [],
   "source": [
    "one_hot = np.array(train_df['label'])\n",
    "label_encoder = LabelEncoder()\n",
    "integer_encoder = label_encoder.fit_transform(one_hot)\n",
    "one_hot_encoder = OneHotEncoder(sparse=False,categories='auto')\n",
    "integer_encoder = integer_encoder.reshape(len(integer_encoder),1)\n",
    "train_label = one_hot_encoder.fit_transform(integer_encoder)\n",
    "\n",
    "one_hot = np.array(test_df['label'])\n",
    "label_encoder = LabelEncoder()\n",
    "integer_encoder = label_encoder.fit_transform(one_hot)\n",
    "one_hot_encoder = OneHotEncoder(sparse=False,categories='auto')\n",
    "integer_encoder = integer_encoder.reshape(len(integer_encoder),1)\n",
    "test_label = one_hot_encoder.fit_transform(integer_encoder)"
   ]
  },
  {
   "cell_type": "code",
   "execution_count": 14,
   "metadata": {
    "ExecuteTime": {
     "end_time": "2019-03-19T14:27:19.710514Z",
     "start_time": "2019-03-19T14:27:19.613433Z"
    }
   },
   "outputs": [
    {
     "name": "stdout",
     "output_type": "stream",
     "text": [
      "WARNING:tensorflow:From /home/mcliffor/anaconda3/envs/tf13/lib/python3.7/site-packages/tensorflow/python/ops/resource_variable_ops.py:435: colocate_with (from tensorflow.python.framework.ops) is deprecated and will be removed in a future version.\n",
      "Instructions for updating:\n",
      "Colocations handled automatically by placer.\n"
     ]
    }
   ],
   "source": [
    "# important caveats here.. if we want to export it to .h5, then we have to use\n",
    "# the keras.activations API instead of the tf.nn\n",
    "# (possible solution is to export model JSON and weights separately)\n",
    "model = keras.Sequential([\n",
    "    keras.layers.Dense(10, activation=keras.activations.relu, input_shape=(13,)),\n",
    "    keras.layers.Dense(2, activation=keras.activations.softmax)\n",
    "]) "
   ]
  },
  {
   "cell_type": "code",
   "execution_count": 15,
   "metadata": {
    "ExecuteTime": {
     "end_time": "2019-03-19T14:27:19.852087Z",
     "start_time": "2019-03-19T14:27:19.712562Z"
    }
   },
   "outputs": [],
   "source": [
    "optimizer = keras.optimizers.Adam(lr=1e-3)\n",
    "loss = keras.losses.binary_crossentropy\n",
    "metrics = ['accuracy']\n",
    "\n",
    "model.compile(optimizer=optimizer,  loss=loss, metrics=metrics)"
   ]
  },
  {
   "cell_type": "code",
   "execution_count": 16,
   "metadata": {
    "ExecuteTime": {
     "end_time": "2019-03-19T14:27:42.997656Z",
     "start_time": "2019-03-19T14:27:19.853838Z"
    }
   },
   "outputs": [
    {
     "name": "stdout",
     "output_type": "stream",
     "text": [
      "WARNING:tensorflow:From /home/mcliffor/anaconda3/envs/tf13/lib/python3.7/site-packages/tensorflow/python/ops/math_ops.py:3066: to_int32 (from tensorflow.python.ops.math_ops) is deprecated and will be removed in a future version.\n",
      "Instructions for updating:\n",
      "Use tf.cast instead.\n"
     ]
    }
   ],
   "source": [
    "history = model.fit( train_df.drop('label', axis=1), train_label, epochs=5000, batch_size=100, verbose=0)"
   ]
  },
  {
   "cell_type": "code",
   "execution_count": 17,
   "metadata": {
    "ExecuteTime": {
     "end_time": "2019-03-19T14:27:43.241757Z",
     "start_time": "2019-03-19T14:27:42.999440Z"
    }
   },
   "outputs": [
    {
     "data": {
      "image/png": "[encoded data removed]",
      "text/plain": [
       "<Figure size 432x288 with 1 Axes>"
      ]
     },
     "metadata": {
      "needs_background": "light"
     },
     "output_type": "display_data"
    }
   ],
   "source": [
    "plt.plot(history.history['acc'], label = 'train_accuracy',)\n",
    "plt.legend(bbox_to_anchor=(1.05, 1), loc='upper left', borderaxespad=0.)\n",
    "plt.show()"
   ]
  },
  {
   "cell_type": "code",
   "execution_count": 18,
   "metadata": {
    "ExecuteTime": {
     "end_time": "2019-03-19T14:27:43.351831Z",
     "start_time": "2019-03-19T14:27:43.246726Z"
    }
   },
   "outputs": [
    {
     "name": "stdout",
     "output_type": "stream",
     "text": [
      "114/114 [==============================] - 0s 897us/sample - loss: 0.5111 - acc: 0.8333\n",
      "Test accuracy: 0.8333333\n"
     ]
    }
   ],
   "source": [
    "test_loss, test_acc = model.evaluate(test_df.drop('label', axis=1), test_label)\n",
    "\n",
    "print('Test accuracy:', test_acc)"
   ]
  },
  {
   "cell_type": "markdown",
   "metadata": {},
   "source": [
    "#### Save Model for Use by TF-Serve"
   ]
  },
  {
   "cell_type": "code",
   "execution_count": 20,
   "metadata": {
    "ExecuteTime": {
     "end_time": "2019-03-19T14:27:44.395707Z",
     "start_time": "2019-03-19T14:27:43.353756Z"
    }
   },
   "outputs": [
    {
     "name": "stdout",
     "output_type": "stream",
     "text": [
      "rm: cannot remove ‘models/pb/1553780586’: No such file or directory\n",
      "WARNING:tensorflow:From <ipython-input-20-9589f38d282c>:24: simple_save (from tensorflow.python.saved_model.simple_save) is deprecated and will be removed in a future version.\n",
      "Instructions for updating:\n",
      "This function will only be available through the v1 compatibility library as tf.compat.v1.saved_model.simple_save.\n",
      "WARNING:tensorflow:From /opt/app-root/lib/python3.6/site-packages/tensorflow/python/saved_model/signature_def_utils_impl.py:205: build_tensor_info (from tensorflow.python.saved_model.utils_impl) is deprecated and will be removed in a future version.\n",
      "Instructions for updating:\n",
      "This function will only be available through the v1 compatibility library as tf.compat.v1.saved_model.utils.build_tensor_info or tf.compat.v1.saved_model.build_tensor_info.\n",
      "INFO:tensorflow:Assets added to graph.\n",
      "INFO:tensorflow:No assets to write.\n",
      "INFO:tensorflow:SavedModel written to: models/pb/1553780586/saved_model.pb\n",
      "\n",
      "Saved model:\n",
      "total 152\n",
      "-rw-r--r--. 1 default 1000660000 151017 Mar 28 13:43 saved_model.pb\n",
      "drwxr-sr-x. 2 default 1000660000   4096 Mar 28 13:43 variables\n",
      "\n",
      "Saved model:\n",
      "total 24\n",
      "-rw-r--r--. 1 default 1000660000 23504 Mar 28 13:43 saved_model.h5\n",
      "WARNING:tensorflow:This model was compiled with a Keras optimizer (<tensorflow.python.keras.optimizers.Adam object at 0x7f9637a24f28>) but is being saved in TensorFlow format with `save_weights`. The model's weights will be saved, but unlike with TensorFlow optimizers in the TensorFlow format the optimizer's state will not be saved.\n",
      "\n",
      "Consider using a TensorFlow optimizer from `tf.train`.\n",
      "WARNING:tensorflow:From /opt/app-root/lib/python3.6/site-packages/tensorflow/python/keras/engine/network.py:1436: update_checkpoint_state (from tensorflow.python.training.checkpoint_management) is deprecated and will be removed in a future version.\n",
      "Instructions for updating:\n",
      "Use tf.train.CheckpointManager to manage checkpoints rather than manually editing the Checkpoint proto.\n",
      "\n",
      "Saved model:\n",
      "total 16\n",
      "-rw-r--r--. 1 default 1000660000   77 Mar 28 13:43 checkpoint\n",
      "-rw-r--r--. 1 default 1000660000 3562 Mar 28 13:43 checkpoint.data-00000-of-00001\n",
      "-rw-r--r--. 1 default 1000660000  586 Mar 28 13:43 checkpoint.index\n",
      "-rw-r--r--. 1 default 1000660000 1085 Mar 28 13:43 saved_model_spec.json\n"
     ]
    }
   ],
   "source": [
    "import os\n",
    "from pathlib import Path\n",
    "from datetime import datetime as dt\n",
    "\n",
    "save = True\n",
    "ver = int(dt.now().timestamp())\n",
    "\n",
    "if save:\n",
    "    for fmt in ['pb', 'hdf5', 'json']:\n",
    "        # save model as hdf5\n",
    "        MODEL_DIR = f\"models/{fmt}\"\n",
    "        export_path = Path(MODEL_DIR, str(ver))\n",
    "\n",
    "        if fmt == 'pb':\n",
    "            # simple_save can not handle existing repository\n",
    "            !rm -r {export_path}\n",
    "\n",
    "            # Inspired by https://www.tensorflow.org/serving/tutorials/Serving_REST_simple\n",
    "            # to save model for TF-serving\n",
    "            tf.saved_model.simple_save(\n",
    "                tf.keras.backend.get_session(),\n",
    "                str(export_path),\n",
    "                inputs={'input_data': model.input},\n",
    "                outputs={t.name:t for t in model.outputs})\n",
    "            \n",
    "        elif fmt == 'hdf5':\n",
    "            # make sure directory exists\n",
    "            os.makedirs(export_path, exist_ok=True)\n",
    "            \n",
    "            model_path = Path(export_path, 'saved_model.h5') \n",
    "            \n",
    "            # hdf5\n",
    "            model.save(model_path)\n",
    "            \n",
    "        else:\n",
    "            # make sure directory exists\n",
    "            os.makedirs(export_path, exist_ok=True)\n",
    "            \n",
    "            # json\n",
    "            model_spec_path = Path(\n",
    "                export_path, 'saved_model_spec.json'\n",
    "            )\n",
    "            model_weights_path = Path(\n",
    "                export_path, 'checkpoint')\n",
    "            \n",
    "            model_spec_path.write_text(model.to_json(), encoding='utf-8')\n",
    "            model.save_weights(str(model_weights_path))\n",
    "\n",
    "        print('\\nSaved model:')\n",
    "        !ls -l {export_path}"
   ]
  },
  {
   "cell_type": "markdown",
   "metadata": {
    "ExecuteTime": {
     "end_time": "2019-03-19T13:18:33.098905Z",
     "start_time": "2019-03-19T13:18:32.584548Z"
    }
   },
   "source": [
    "#### demonstrate model loading from JSON"
   ]
  },
  {
   "cell_type": "code",
   "execution_count": 21,
   "metadata": {
    "ExecuteTime": {
     "end_time": "2019-03-19T14:27:44.748304Z",
     "start_time": "2019-03-19T14:27:44.409589Z"
    }
   },
   "outputs": [],
   "source": [
    "loaded_model = tf.keras.models.model_from_json(model_spec_path.read_text())\n",
    "\n",
    "loaded_model.load_weights(str(model_weights_path))\n",
    "loaded_model.compile(optimizer=optimizer, loss=loss, metrics=metrics)"
   ]
  },
  {
   "cell_type": "code",
   "execution_count": 22,
   "metadata": {
    "ExecuteTime": {
     "end_time": "2019-03-19T14:27:45.088423Z",
     "start_time": "2019-03-19T14:27:44.749952Z"
    }
   },
   "outputs": [
    {
     "name": "stdout",
     "output_type": "stream",
     "text": [
      "114/114 [==============================] - 0s 326us/sample - loss: 0.4804 - acc: 0.8333\n",
      "Test accuracy: 0.8333333\n"
     ]
    }
   ],
   "source": [
    "test_loss, test_acc = loaded_model.evaluate(test_df.drop('label', axis=1), test_label)\n",
    "\n",
    "print('Test accuracy:', test_acc)"
   ]
  },
  {
   "cell_type": "code",
   "execution_count": 23,
   "metadata": {},
   "outputs": [
    {
     "name": "stdout",
     "output_type": "stream",
     "text": [
      "NAME                              TYPE      FROM                            LATEST\n",
      "jupyter-notebook-tensorflow-img   Source    Git@feature/add-serving-infra   4\n",
      "tf-serving                        Source    Git@feature/add-serving-infra   3\n"
     ]
    }
   ],
   "source": [
    "%%bash\n",
    "\n",
    "oc get bc"
   ]
  },
  {
   "cell_type": "code",
   "execution_count": 24,
   "metadata": {},
   "outputs": [
    {
     "name": "stdout",
     "output_type": "stream",
     "text": [
      "build.build.openshift.io/tf-serving-4 started\n"
     ]
    },
    {
     "name": "stderr",
     "output_type": "stream",
     "text": [
      "Uploading directory \".\" as binary input for the build ...\n",
      ".\n",
      "Uploading finished\n"
     ]
    }
   ],
   "source": [
    "%%bash\n",
    "\n",
    "oc start-build tf-serving --from-dir ."
   ]
  },
  {
   "cell_type": "code",
   "execution_count": 25,
   "metadata": {},
   "outputs": [
    {
     "name": "stdout",
     "output_type": "stream",
     "text": [
      "Receiving source from STDIN as archive ...\n",
      "Caching blobs under \"/var/cache/blobs\".\n",
      "Getting image source signatures\n",
      "Copying blob sha256:da59b306fcf51d4fe2f11ef4660a9b72a48788d81a3685c57687ab8e22295229\n",
      "Copying blob sha256:e23b0afac3fa3bc3736efa2a2f7b05f810ecc499278d804c4d531b1ec52842b2\n",
      "Copying blob sha256:f7b75f6aafa54dab49fe66edd29f598e6d1a6af65d1d889296eaf7bdb6022baf\n",
      "Copying blob sha256:609fb28361983de87f660cd05479f8e7ac96bffe45ca889c986526ca013f6a73\n",
      "Copying blob sha256:a81b2823ccbe655fe5c6c8515c4f0342c18dee04c3b8b60222fe8e615f56dac8\n",
      "Copying config sha256:cdee27da3387016ce799020021fba749bc7269aa45886cfe935d7dd12fc74840\n",
      "Writing manifest to image destination\n",
      "Storing signatures\n",
      "cdee27da3387016ce799020021fba749bc7269aa45886cfe935d7dd12fc74840\n",
      "Generating dockerfile with builder image image-registry.openshift-image-registry.svc:5000/openshift/python@sha256:60419af66e84663ebbfde4a68c3a702f2dabbf416c71e998dbbda95b36f81be9\n",
      "STEP 1: FROM image-registry.openshift-image-registry.svc:5000/openshift/python@sha256:60419af66e84663ebbfde4a68c3a702f2dabbf416c71e998dbbda95b36f81be9\n",
      "STEP 2: LABEL \"io.openshift.build.image\"=\"image-registry.openshift-image-registry.svc:5000/openshift/python@sha256:60419af66e84663ebbfde4a68c3a702f2dabbf416c71e998dbbda95b36f81be9\" \"io.openshift.build.source-location\"=\"/tmp/build/inputs\"\n",
      "STEP 3: ENV APP_FILE=\"./v1_Gesture_Recognition_Serving.py\" ENABLE_PIPENV=\"1\" OPENSHIFT_BUILD_NAME=\"tf-serving-2\" OPENSHIFT_BUILD_NAMESPACE=\"tf-demo\"\n",
      "STEP 4: USER root\n",
      "STEP 5: COPY upload/scripts /tmp/scripts\n",
      "STEP 6: COPY upload/src /tmp/src\n",
      "STEP 7: RUN chown -R 1001:0 /tmp/scripts /tmp/src\n",
      "time=\"2019-03-28T11:56:43Z\" level=warning msg=\"pkg/chroot: error unmounting \\\"/tmp/buildah097799980/mnt/rootfs\\\": error checking if \\\"/tmp/buildah097799980/mnt/rootfs/sys/fs/cgroup/devices\\\" is mounted: no such file or directory\"\n",
      "time=\"2019-03-28T11:56:43Z\" level=warning msg=\"pkg/bind: error unmounting \\\"/tmp/buildah097799980/mnt/rootfs\\\": error checking if \\\"/tmp/buildah097799980/mnt/rootfs/sys/fs/cgroup/devices\\\" is mounted: no such file or directory\"\n",
      "STEP 8: USER 1001\n",
      "STEP 9: RUN /tmp/scripts/assemble\n",
      "---> Installing application source ...\n",
      "---> Installing pipenv packaging tool ...\n",
      "Using base prefix '/opt/rh/rh-python36/root/usr'\n",
      "New python executable in /opt/app-root/src/.local/venvs/pipenv/bin/python3\n",
      "Also creating executable in /opt/app-root/src/.local/venvs/pipenv/bin/python\n",
      "Installing setuptools, pip, wheel...done.\n",
      "Collecting pipenv\n",
      "  Downloading https://files.pythonhosted.org/packages/13/b4/3ffa55f77161cff9a5220f162670f7c5eb00df52e00939e203f601b0f579/pipenv-2018.11.26-py3-none-any.whl (5.2MB)\n",
      "Collecting virtualenv (from pipenv)\n",
      "  Downloading https://files.pythonhosted.org/packages/33/5d/314c760d4204f64e4a968275182b7751bd5c3249094757b39ba987dcfb5a/virtualenv-16.4.3-py2.py3-none-any.whl (2.0MB)\n",
      "Collecting virtualenv-clone>=0.2.5 (from pipenv)\n",
      "  Downloading https://files.pythonhosted.org/packages/e3/d9/d9c56deb483c4d3289a00b12046e41428be64e8236fa210111a1f57cc42d/virtualenv_clone-0.5.1-py2.py3-none-any.whl\n",
      "Collecting setuptools>=36.2.1 (from pipenv)\n",
      "  Downloading https://files.pythonhosted.org/packages/d1/6a/4b2fcefd2ea0868810e92d519dacac1ddc64a2e53ba9e3422c3b62b378a6/setuptools-40.8.0-py2.py3-none-any.whl (575kB)\n",
      "Collecting pip>=9.0.1 (from pipenv)\n",
      "  Downloading https://files.pythonhosted.org/packages/d8/f3/413bab4ff08e1fc4828dfc59996d721917df8e8583ea85385d51125dceff/pip-19.0.3-py2.py3-none-any.whl (1.4MB)\n",
      "Collecting certifi (from pipenv)\n",
      "  Downloading https://files.pythonhosted.org/packages/60/75/f692a584e85b7eaba0e03827b3d51f45f571c2e793dd731e598828d380aa/certifi-2019.3.9-py2.py3-none-any.whl (158kB)\n",
      "Installing collected packages: virtualenv, virtualenv-clone, setuptools, pip, certifi, pipenv\n",
      "  Found existing installation: setuptools 28.8.0\n",
      "    Uninstalling setuptools-28.8.0:\n",
      "      Successfully uninstalled setuptools-28.8.0\n",
      "  Found existing installation: pip 9.0.1\n",
      "    Uninstalling pip-9.0.1:\n",
      "      Successfully uninstalled pip-9.0.1\n",
      "Successfully installed certifi-2019.3.9 pip-19.0.3 pipenv-2018.11.26 setuptools-40.8.0 virtualenv-16.4.3 virtualenv-clone-0.5.1\n",
      "---> Installing dependencies via pipenv ...\n",
      "Courtesy Notice: Pipenv found itself running within a virtual environment, so it will automatically use that environment, instead of creating its own for any project. You can set PIPENV_IGNORE_VIRTUALENVS=1 to force pipenv to ignore that environment and create its own instead. You can set PIPENV_VERBOSITY=-1 to suppress this warning.\n",
      "Installing dependencies from Pipfile.lock (d7fe28)…\n",
      "total 55340\n",
      "drwxrwxr-x. 1 default root     4096 Mar 28 11:56 .\n",
      "drwxrwxr-x. 1 default root       63 Mar 28 11:57 ..\n",
      "drwxrwx---. 4 default root       31 Mar 28 11:56 .cache\n",
      "drwxrwxr-x. 3 default root       27 Mar 28 11:56 data\n",
      "drwxrwxr-x. 2 default root       62 Mar 28 11:56 .ipynb_checkpoints\n",
      "drwxrwxr-x. 4 default root       30 Mar 28 11:56 .local\n",
      "drwxrwxr-x. 5 default root       40 Mar 28 11:56 models\n",
      "-rw-rw-r--. 1 default root 56507103 Mar 28 11:56 oc.tar.gz\n",
      "drwxrwxr-x. 2 default root      128 Mar 28 11:56 openshift\n",
      "drwxrwxr-x. 2 default root       63 Mar 28 11:56 openshift-origin-client-tools-v3.11.0-0cbc58b-linux-64bit\n",
      "-rw-rw-r--. 1 default root      535 Mar 28 11:56 Pipfile\n",
      "-rw-rw-r--. 1 default root    67973 Mar 28 11:56 Pipfile.lock\n",
      "drwxrwxr-x. 1 default root       19 Mar  6 10:59 .pki\n",
      "-rw-rw-r--. 1 default root     3517 Mar 28 11:56 README.md\n",
      "-rw-rw-r--. 1 default root      242 Mar 28 11:56 requirements.in\n",
      "-rw-rw-r--. 1 default root     4297 Mar 28 11:56 requirements.txt\n",
      "-rw-rw----. 1 default root     1024 Mar  6 11:22 .rnd\n",
      "drwxrwxr-x. 3 default root       36 Mar 28 11:56 .s2i\n",
      "-rwxrwxr-x. 1 default root     3360 Mar 28 11:56 v1_Gesture_Recognition_Client.py\n",
      "-rwxrwxr-x. 1 default root     4012 Mar 28 11:56 v1_Gesture_Recognition_Serving.py\n",
      "-rw-rw-r--. 1 default root    51881 Mar 28 11:56 v1_Gesture_Recognition_Training.ipynb\n",
      "time=\"2019-03-28T11:57:43Z\" level=warning msg=\"pkg/chroot: error unmounting \\\"/tmp/buildah755193170/mnt/rootfs\\\": error checking if \\\"/tmp/buildah755193170/mnt/rootfs/sys/fs/cgroup/devices\\\" is mounted: no such file or directory\"\n",
      "time=\"2019-03-28T11:57:43Z\" level=warning msg=\"pkg/bind: error unmounting \\\"/tmp/buildah755193170/mnt/rootfs\\\": error checking if \\\"/tmp/buildah755193170/mnt/rootfs/sys/fs/cgroup/devices\\\" is mounted: no such file or directory\"\n",
      "STEP 10: CMD /usr/libexec/s2i/run\n",
      "STEP 11: COMMIT containers-storage:[overlay@/var/lib/containers/storage+/var/run/containers/storage:overlay.skip_mount_home=false]temp.builder.openshift.io/tf-demo/tf-serving-2:de8ea06f\n",
      "Getting image source signatures\n",
      "Copying blob sha256:9a7a22f11b721400569f1b5c0dc25cc4f47709f6f85368a8610e663b14fe4225\n",
      "Copying blob sha256:26e309bebfcf57a8a6730260311c5bd961d6c202ba46d185b0e79c409a9c77cc\n",
      "Copying blob sha256:d4f1f734652bd5aee81d66f6e9e851cc325576211507889becaa2f9e87e65fe0\n",
      "Copying blob sha256:fa93a281fc3177af7127ad179b54936aaca006c4ebde277addb931213af06903\n",
      "Copying blob sha256:03c1c5af7fcd84d11ca90c1919ec585e78f947b2a1978a445e59abda50381804\n",
      "Copying blob sha256:021a3b6b3e5a512e6cfd7e50025079f5a5181decb4c6f086718d527693ac7634\n",
      "Copying config sha256:58bbf1d5aed1601c10cf7826ba52e2616bb7e96998aa65a46283a56dc12ca46f\n",
      "Writing manifest to image destination\n",
      "Storing signatures\n",
      "--> 58bbf1d5aed1601c10cf7826ba52e2616bb7e96998aa65a46283a56dc12ca46f\n",
      "\n",
      "Pushing image image-registry.openshift-image-registry.svc:5000/tf-demo/tf-serving:latest ...\n",
      "Getting image source signatures\n",
      "Copying blob sha256:da59b306fcf51d4fe2f11ef4660a9b72a48788d81a3685c57687ab8e22295229\n",
      "Copying blob sha256:e23b0afac3fa3bc3736efa2a2f7b05f810ecc499278d804c4d531b1ec52842b2\n",
      "Copying blob sha256:f7b75f6aafa54dab49fe66edd29f598e6d1a6af65d1d889296eaf7bdb6022baf\n",
      "Copying blob sha256:609fb28361983de87f660cd05479f8e7ac96bffe45ca889c986526ca013f6a73\n",
      "Copying blob sha256:a81b2823ccbe655fe5c6c8515c4f0342c18dee04c3b8b60222fe8e615f56dac8\n",
      "Copying blob sha256:021a3b6b3e5a512e6cfd7e50025079f5a5181decb4c6f086718d527693ac7634\n",
      "Copying config sha256:58bbf1d5aed1601c10cf7826ba52e2616bb7e96998aa65a46283a56dc12ca46f\n",
      "Writing manifest to image destination\n",
      "Storing signatures\n",
      "Successfully pushed //image-registry.openshift-image-registry.svc:5000/tf-demo/tf-serving:latest@sha256:d76cef523e53d52e318c9c69f3b73f0f4af32db6fe1da48f399bf3a3aaacf493\n",
      "Push successful\n"
     ]
    }
   ],
   "source": [
    "%%bash\n",
    "\n",
    "oc logs -f build.build.openshift.io/tf-serving-2"
   ]
  },
  {
   "cell_type": "code",
   "execution_count": 33,
   "metadata": {},
   "outputs": [
    {
     "name": "stdout",
     "output_type": "stream",
     "text": [
      "service.serving.knative.dev/tf-serving-knative-demo configured\n"
     ]
    }
   ],
   "source": [
    "%%bash\n",
    "\n",
    "oc process tf-serving-knative -p REVISION=7 | oc apply -f -\n"
   ]
  },
  {
   "cell_type": "code",
   "execution_count": 40,
   "metadata": {},
   "outputs": [
    {
     "name": "stdout",
     "output_type": "stream",
     "text": [
      "Process is interrupted.\n"
     ]
    }
   ],
   "source": [
    "%%bash\n",
    "\n",
    "while oc get pods | grep tf-serving-knative | grep -v Running; do \n",
    "    oc get pods | grep tf-serving-knative\n",
    "    sleep 1\n",
    "done\n"
   ]
  },
  {
   "cell_type": "code",
   "execution_count": 35,
   "metadata": {},
   "outputs": [],
   "source": [
    "%%bash --out KSERVICE_DOMAIN\n",
    "\n",
    "oc get kservice tf-serving-knative-demo -o jsonpath='{.status.domain}'"
   ]
  },
  {
   "cell_type": "code",
   "execution_count": 36,
   "metadata": {},
   "outputs": [],
   "source": [
    "import requests\n",
    "INGRESS_GATEWAY=\"a1750b0f2514211e989f40eadd03a211-1243510837.us-east-1.elb.amazonaws.com\""
   ]
  },
  {
   "cell_type": "code",
   "execution_count": 37,
   "metadata": {},
   "outputs": [
    {
     "data": {
      "text/plain": [
       "'tf-serving-knative-demo.tf-demo.example.com'"
      ]
     },
     "execution_count": 37,
     "metadata": {},
     "output_type": "execute_result"
    }
   ],
   "source": [
    "KSERVICE_DOMAIN"
   ]
  },
  {
   "cell_type": "code",
   "execution_count": 38,
   "metadata": {},
   "outputs": [],
   "source": [
    "data = {\n",
    "  \"instances\": [\n",
    "    [\n",
    "      0.625899,\n",
    "      0.23741,\n",
    "      0.035971,\n",
    "      0.035971,\n",
    "      0.028777,\n",
    "      0.014388,\n",
    "      0.021583,\n",
    "      0,\n",
    "      0,\n",
    "      4.7488,\n",
    "      139,\n",
    "      1.359591,\n",
    "      1.667831\n",
    "    ]\n",
    "  ],\n",
    "  \"signature\": \"serving_default\"\n",
    "}"
   ]
  },
  {
   "cell_type": "code",
   "execution_count": 39,
   "metadata": {},
   "outputs": [
    {
     "data": {
      "text/plain": [
       "b'{\"predictions\": [[0.00013503474474418908, 0.999864935874939]]}\\n'"
      ]
     },
     "execution_count": 39,
     "metadata": {},
     "output_type": "execute_result"
    }
   ],
   "source": [
    "json_response = requests.post(\"http://%s/model/predict\" % INGRESS_GATEWAY, json=data, headers={\"Host\": KSERVICE_DOMAIN, \"Content-Type\":\"application/json\"})\n",
    "json_response.content"
   ]
  },
  {
   "cell_type": "code",
   "execution_count": null,
   "metadata": {},
   "outputs": [],
   "source": []
  }
 ],
 "metadata": {
  "hide_input": false,
  "kernelspec": {
   "display_name": "Python TF 1.13",
   "language": "python",
   "name": "tf13"
  },
  "language_info": {
   "codemirror_mode": {
    "name": "ipython",
    "version": 3
   },
   "file_extension": ".py",
   "mimetype": "text/x-python",
   "name": "python",
   "nbconvert_exporter": "python",
   "pygments_lexer": "ipython3",
   "version": "3.7.3"
  },
  "toc": {
   "base_numbering": 1,
   "nav_menu": {},
   "number_sections": true,
   "sideBar": true,
   "skip_h1_title": false,
   "title_cell": "Table of Contents",
   "title_sidebar": "Contents",
   "toc_cell": false,
   "toc_position": {},
   "toc_section_display": true,
   "toc_window_display": false
  },
  "varInspector": {
   "cols": {
    "lenName": 16,
    "lenType": 16,
    "lenVar": 40
   },
   "kernels_config": {
    "python": {
     "delete_cmd_postfix": "",
     "delete_cmd_prefix": "del ",
     "library": "var_list.py",
     "varRefreshCmd": "print(var_dic_list())"
    },
    "r": {
     "delete_cmd_postfix": ") ",
     "delete_cmd_prefix": "rm(",
     "library": "var_list.r",
     "varRefreshCmd": "cat(var_dic_list()) "
    }
   },
   "position": {
    "height": "233px",
    "left": "17.2969px",
    "right": "20px",
    "top": "119.969px",
    "width": "348px"
   },
   "types_to_exclude": [
    "module",
    "function",
    "builtin_function_or_method",
    "instance",
    "_Feature"
   ],
   "window_display": false
  }
 },
 "nbformat": 4,
 "nbformat_minor": 2
}
